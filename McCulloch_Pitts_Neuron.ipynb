{
  "nbformat": 4,
  "nbformat_minor": 0,
  "metadata": {
    "colab": {
      "provenance": []
    },
    "kernelspec": {
      "name": "python3",
      "display_name": "Python 3"
    },
    "language_info": {
      "name": "python"
    }
  },
  "cells": [
    {
      "cell_type": "code",
      "execution_count": 1,
      "metadata": {
        "colab": {
          "base_uri": "https://localhost:8080/"
        },
        "id": "ptN3rgpr44xd",
        "outputId": "bc6c4507-bfbb-41ba-bbe4-a1659498318b"
      },
      "outputs": [
        {
          "output_type": "stream",
          "name": "stdout",
          "text": [
            "Anshu Vishwakarma\n",
            "B.Tech VII sem\n",
            "Roll No. 0873CS211016\n",
            "Input: [0, 0], Output: 0\n",
            "Input: [0, 1], Output: 0\n",
            "Input: [1, 0], Output: 0\n",
            "Input: [1, 1], Output: 1\n"
          ]
        }
      ],
      "source": [
        "import numpy as np\n",
        "print(\"Anshu Vishwakarma\")\n",
        "print(\"B.Tech VII sem\")\n",
        "print(\"Roll No. 0873CS211016\")\n",
        "\n",
        "class McCullochPittsNeuron:\n",
        "    def __init__(self, weights, threshold):\n",
        "        self.weights = weights\n",
        "        self.threshold = threshold\n",
        "\n",
        "    def activate(self, inputs):\n",
        "        weighted_sum = np.dot(self.weights, inputs)\n",
        "        if weighted_sum >= self.threshold:\n",
        "            return 1\n",
        "        else:\n",
        "            return 0\n",
        "\n",
        "# Example usage: Implementing an AND gate\n",
        "and_neuron = McCullochPittsNeuron(weights=[1, 1], threshold=2)\n",
        "\n",
        "inputs = [[0, 0], [0, 1], [1, 0], [1, 1]]\n",
        "\n",
        "for input_pair in inputs:\n",
        "    output = and_neuron.activate(input_pair)\n",
        "    print(f\"Input: {input_pair}, Output: {output}\")"
      ]
    }
  ]
}