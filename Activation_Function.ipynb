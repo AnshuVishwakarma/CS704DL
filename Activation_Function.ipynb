{
  "nbformat": 4,
  "nbformat_minor": 0,
  "metadata": {
    "colab": {
      "provenance": []
    },
    "kernelspec": {
      "name": "python3",
      "display_name": "Python 3"
    },
    "language_info": {
      "name": "python"
    }
  },
  "cells": [
    {
      "cell_type": "code",
      "execution_count": 4,
      "metadata": {
        "colab": {
          "base_uri": "https://localhost:8080/"
        },
        "id": "ptN3rgpr44xd",
        "outputId": "8e1f1523-917f-4c2d-c647-66a0e1a1a5c4"
      },
      "outputs": [
        {
          "output_type": "stream",
          "name": "stdout",
          "text": [
            "Anshu Vishwakarma\n",
            "B.Tech VII sem\n",
            "Roll No. 0873CS211016\n",
            "Testing activation function: relu\n"
          ]
        },
        {
          "output_type": "stream",
          "name": "stderr",
          "text": [
            "/usr/local/lib/python3.10/dist-packages/keras/src/layers/core/dense.py:87: UserWarning: Do not pass an `input_shape`/`input_dim` argument to a layer. When using Sequential models, prefer using an `Input(shape)` object as the first layer in the model instead.\n",
            "  super().__init__(activity_regularizer=activity_regularizer, **kwargs)\n"
          ]
        },
        {
          "output_type": "stream",
          "name": "stdout",
          "text": [
            "Accuracy: 0.5759999752044678\n",
            "Testing activation function: sigmoid\n",
            "Accuracy: 0.5329999923706055\n",
            "Testing activation function: tanh\n",
            "Accuracy: 0.5789999961853027\n"
          ]
        }
      ],
      "source": [
        "import numpy as np\n",
        "import tensorflow as tf\n",
        "from tensorflow import keras\n",
        "from tensorflow.keras import layers\n",
        "\n",
        "print(\"Anshu Vishwakarma\")\n",
        "print(\"B.Tech VII sem\")\n",
        "print(\"Roll No. 0873CS211016\")\n",
        "\n",
        "# Generate sample data\n",
        "np.random.seed(0)\n",
        "X = np.random.rand(1000, 20)\n",
        "y = np.random.randint(2, size=1000)\n",
        "\n",
        "# Define a function to create the model\n",
        "def create_model(activation):\n",
        "    model = keras.Sequential([\n",
        "        layers.Dense(64, activation=activation ,input_shape=(20,)),\n",
        "        layers.Dense(1, activation='sigmoid')\n",
        "    ])\n",
        "    model.compile(optimizer='adam', loss='binary_crossentropy', metrics=['accuracy'])\n",
        "    return model\n",
        "\n",
        "# Activation functions to compare\n",
        "activation_functions = ['relu', 'sigmoid', 'tanh']\n",
        "\n",
        "# Train and evaluate models for each activation function\n",
        "for activation in activation_functions:\n",
        "    print(f\"Testing activation function: {activation}\")\n",
        "    model = create_model(activation)\n",
        "    history = model.fit(X, y, epochs=10, verbose=0)\n",
        "    _, accuracy = model.evaluate(X, y, verbose=0)\n",
        "    print(f\"Accuracy: {accuracy}\")"
      ]
    }
  ]
}